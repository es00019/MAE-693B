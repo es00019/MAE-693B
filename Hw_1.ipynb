{
 "cells": [
  {
   "cell_type": "code",
   "execution_count": 2,
   "metadata": {},
   "outputs": [
    {
     "name": "stdout",
     "output_type": "stream",
     "text": [
      "+---------+\n",
      "|\u001b[35mR\u001b[0m: | : :\u001b[34;1mG\u001b[0m|\n",
      "| : | : : |\n",
      "| : : : : |\n",
      "| | : | :\u001b[43m \u001b[0m|\n",
      "|Y| : |B: |\n",
      "+---------+\n",
      "\n",
      "value funtion\n",
      "0\n"
     ]
    }
   ],
   "source": [
    "import gym\n",
    "env = gym.make(\"Taxi-v3\")\n",
    "env.render()\n",
    "import numpy as np\n",
    "\n",
    "n_states=env.observation_space.n\n",
    "n_action=env.observation_space.n\n",
    "P=np.zeros([n_states, n_action, n_states])\n",
    "R=np.zeros([n_states, n_action, n_states])\n",
    "gam=0.9\n",
    "pol=[1 for s in range(n_states)]\n",
    "V=np.zeros(n_states)\n",
    "stable=0\n",
    "best = 0\n",
    "\n",
    "while stable==0:\n",
    "    for s in range(n_states):\n",
    "        v = V[s]\n",
    "        V[s] = sum([P[s,pol[s],s1] * (R[s,pol[s],s1] + gam*V[s1]) for s1 in range(n_states)])\n",
    "        for a in range(n_action):\n",
    "            init = sum([P[s,a,s1]*(R[s,a,s1]+gam*V[s1]) for s1 in range(n_states)])\n",
    "    if init > best:\n",
    "        pol[s] = a\n",
    "        best = init\n",
    "        stable=0\n",
    "    else:\n",
    "        stable=1\n",
    "if stable==1:\n",
    "    print (\"value funtion\")\n",
    "    print (best)"
   ]
  },
  {
   "cell_type": "code",
   "execution_count": null,
   "metadata": {},
   "outputs": [],
   "source": []
  }
 ],
 "metadata": {
  "kernelspec": {
   "display_name": "Python 3",
   "language": "python",
   "name": "python3"
  },
  "language_info": {
   "codemirror_mode": {
    "name": "ipython",
    "version": 3
   },
   "file_extension": ".py",
   "mimetype": "text/x-python",
   "name": "python",
   "nbconvert_exporter": "python",
   "pygments_lexer": "ipython3",
   "version": "3.8.5"
  }
 },
 "nbformat": 4,
 "nbformat_minor": 4
}
